{
 "cells": [
  {
   "cell_type": "markdown",
   "metadata": {},
   "source": [
    "# Subspace Methods"
   ]
  },
  {
   "cell_type": "code",
   "execution_count": 1,
   "metadata": {},
   "outputs": [],
   "source": [
    "from dataset.dataset import JumpPoseDataset\n",
    "\n",
    "pose_paths = './dataset/marker_data'\n",
    "info_path = './dataset/info.xlsx'\n",
    "dataset = JumpPoseDataset(pose_paths, info_path, mode='3D')"
   ]
  },
  {
   "cell_type": "code",
   "execution_count": 17,
   "metadata": {},
   "outputs": [
    {
     "name": "stdout",
     "output_type": "stream",
     "text": [
      "(29, 3)\n",
      "(3, 29)\n",
      "[0.96129532 0.02172655]\n",
      "[2.86511883 0.43073443]\n"
     ]
    }
   ],
   "source": [
    "from sklearn.decomposition import PCA\n",
    "\n",
    "def generate_shape_subspace(X, n_components):\n",
    "    \"\"\"\n",
    "    The column space of S = (r1 r2 . . . rP )^T \n",
    "    where rp = (xp yp zp)^T for 1 ≤ p ≤ P\n",
    "    is the shape subspace\n",
    "    \"\"\"\n",
    "    print(X.shape)\n",
    "    print(X.T.shape)\n",
    "    pca = PCA(n_components=n_components)\n",
    "    pca.fit(X)  \n",
    "\n",
    "    print(pca.explained_variance_ratio_)  \n",
    "    print(pca.singular_values_)  \n",
    "\n",
    "generate_shape_subspace(dataset.get_example(0)[0][0], n_components=2)"
   ]
  },
  {
   "cell_type": "code",
   "execution_count": 15,
   "metadata": {},
   "outputs": [
    {
     "data": {
      "text/plain": [
       "(29, 3)"
      ]
     },
     "execution_count": 15,
     "metadata": {},
     "output_type": "execute_result"
    }
   ],
   "source": [
    "dataset.get_example(0)[0][0].shape"
   ]
  }
 ],
 "metadata": {
  "file_extension": ".py",
  "kernelspec": {
   "display_name": "Python 3",
   "language": "python",
   "name": "python3"
  },
  "language_info": {
   "codemirror_mode": {
    "name": "ipython",
    "version": 3
   },
   "file_extension": ".py",
   "mimetype": "text/x-python",
   "name": "python",
   "nbconvert_exporter": "python",
   "pygments_lexer": "ipython3",
   "version": "3.7.3"
  },
  "mimetype": "text/x-python",
  "name": "python",
  "npconvert_exporter": "python",
  "pygments_lexer": "ipython3",
  "version": 3
 },
 "nbformat": 4,
 "nbformat_minor": 2
}
