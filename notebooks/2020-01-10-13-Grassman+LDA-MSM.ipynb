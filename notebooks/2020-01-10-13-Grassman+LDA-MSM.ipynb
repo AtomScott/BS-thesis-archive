{
 "cells": [
  {
   "cell_type": "code",
   "execution_count": 1,
   "metadata": {},
   "outputs": [
    {
     "name": "stdout",
     "output_type": "stream",
     "text": [
      "/home/atom/cvlab/thesis\n"
     ]
    }
   ],
   "source": [
    "import os\n",
    "# Check cwd\n",
    "os.chdir('/home/atom/cvlab/thesis/') \n",
    "# os.chdir('/home/member/github/BS-thesis') \n",
    "# BS-thesis should be root\n",
    "print(os.getcwd())"
   ]
  },
  {
   "cell_type": "code",
   "execution_count": 2,
   "metadata": {},
   "outputs": [],
   "source": [
    "%load_ext autoreload\n",
    "%autoreload 2"
   ]
  },
  {
   "cell_type": "code",
   "execution_count": 3,
   "metadata": {},
   "outputs": [],
   "source": [
    "# Dependencies\n",
    "import glob, itertools\n",
    "import matplotlib.pyplot as plt\n",
    "import numpy as np\n",
    "\n",
    "from tqdm import tqdm_notebook\n",
    "from functools import partial\n",
    "from torch.utils.data import Dataset, DataLoader\n",
    "from sklearn.decomposition import PCA, KernelPCA\n",
    "from sklearn.discriminant_analysis import LinearDiscriminantAnalysis\n",
    "\n",
    "from my_pkg import dataset\n",
    "from my_pkg import utils\n",
    "\n",
    "import sys\n",
    "sys.path.append('cvlab_toolbox')\n",
    "from cvt.models import SubspaceMethod, MutualSubspaceMethod, KernelMSM, ConstrainedMSM"
   ]
  },
  {
   "cell_type": "markdown",
   "metadata": {},
   "source": [
    "# Shape subspaces \n",
    "\n",
    "1. Make shape subspaces for each frame.\n",
    "    - Perform Gram-Shmidt on each frame matrix\n",
    "\n",
    "\n",
    "2. Compute Grassman kernel\n",
    "    - Kernel size will be NF x NF\n",
    "\n",
    "\n",
    "3. Concatenate column vectors of the same jump sequence\n",
    "    - We will have N vectors of size NF^2"
   ]
  },
  {
   "cell_type": "markdown",
   "metadata": {},
   "source": [
    "### Data Preperation"
   ]
  },
  {
   "cell_type": "code",
   "execution_count": 4,
   "metadata": {},
   "outputs": [
    {
     "name": "stdout",
     "output_type": "stream",
     "text": [
      "--- Split stats ---\n",
      "Number of train subjects: 100\n",
      "Number of test subjects: 43\n",
      "\n",
      "Subject Ratio: 2.3255813953488373\n",
      "Sample Ratio: 2.337579617834395\n",
      "\n",
      "Labels Ratio ---\n",
      "Label ['miss', 'healthy', 'structural', 'subjective', 'recovered', 'prone']\n",
      "Train [0.18256131 0.21253406 0.49318801 0.34877384 0.11171662 0.31880109]\n",
      "Test [0.17834395 0.19745223 0.51592357 0.28025478 0.15923567 0.28025478]\n"
     ]
    }
   ],
   "source": [
    "pose_paths = glob.glob('./data/marker/*.csv')\n",
    "grf_paths = glob.glob('./data/GRF/*.csv')\n",
    "info_path = './data/info.xlsx'\n",
    "dataset = dataset.SLJDataset(pose_paths, grf_paths, info_path)\n",
    "\n",
    "def transform(sample):\n",
    "    sample['trunc_pose'] = sample['trunc_pose'][-300::]\n",
    "    return sample    \n",
    "\n",
    "dataset.transforms = [transform] \n",
    "trainset, testset = dataset.train_test_split(test_size = 0.3, stratify=0)"
   ]
  },
  {
   "cell_type": "code",
   "execution_count": 5,
   "metadata": {},
   "outputs": [],
   "source": [
    "X_train, y_train = trainset['trunc_pose'], np.asarray(trainset['label'])[:, 0]\n",
    "X_test, y_test = testset['trunc_pose'], np.asarray(testset['label'])[:, 0]"
   ]
  },
  {
   "cell_type": "markdown",
   "metadata": {},
   "source": [
    "## Create shape subspaces"
   ]
  },
  {
   "cell_type": "markdown",
   "metadata": {},
   "source": [
    "This has an unpractical calculation time"
   ]
  },
  {
   "cell_type": "code",
   "execution_count": 6,
   "metadata": {},
   "outputs": [
    {
     "ename": "MemoryError",
     "evalue": "",
     "output_type": "error",
     "traceback": [
      "\u001b[0;31m---------------------------------------------------------------------------\u001b[0m",
      "\u001b[0;31mMemoryError\u001b[0m                               Traceback (most recent call last)",
      "\u001b[0;32m<ipython-input-6-84c72de61e45>\u001b[0m in \u001b[0;36m<module>\u001b[0;34m\u001b[0m\n\u001b[1;32m      1\u001b[0m \u001b[0mF\u001b[0m \u001b[0;34m=\u001b[0m \u001b[0mlen\u001b[0m\u001b[0;34m(\u001b[0m\u001b[0mX_train\u001b[0m\u001b[0;34m[\u001b[0m\u001b[0;36m0\u001b[0m\u001b[0;34m]\u001b[0m\u001b[0;34m)\u001b[0m \u001b[0;31m# number of frames\u001b[0m\u001b[0;34m\u001b[0m\u001b[0;34m\u001b[0m\u001b[0m\n\u001b[1;32m      2\u001b[0m \u001b[0mN\u001b[0m \u001b[0;34m=\u001b[0m \u001b[0mlen\u001b[0m\u001b[0;34m(\u001b[0m\u001b[0mX_train\u001b[0m\u001b[0;34m)\u001b[0m \u001b[0;31m# length of dataset\u001b[0m\u001b[0;34m\u001b[0m\u001b[0;34m\u001b[0m\u001b[0m\n\u001b[0;32m----> 3\u001b[0;31m \u001b[0mK\u001b[0m \u001b[0;34m=\u001b[0m \u001b[0mnp\u001b[0m\u001b[0;34m.\u001b[0m\u001b[0mzeros\u001b[0m\u001b[0;34m(\u001b[0m\u001b[0;34m(\u001b[0m\u001b[0mN\u001b[0m\u001b[0;34m*\u001b[0m\u001b[0mF\u001b[0m\u001b[0;34m,\u001b[0m \u001b[0mN\u001b[0m\u001b[0;34m*\u001b[0m\u001b[0mF\u001b[0m\u001b[0;34m)\u001b[0m\u001b[0;34m)\u001b[0m\u001b[0;34m\u001b[0m\u001b[0;34m\u001b[0m\u001b[0m\n\u001b[0m\u001b[1;32m      4\u001b[0m \u001b[0;34m\u001b[0m\u001b[0m\n\u001b[1;32m      5\u001b[0m \u001b[0mreshaped_X_train\u001b[0m \u001b[0;34m=\u001b[0m \u001b[0mnp\u001b[0m\u001b[0;34m.\u001b[0m\u001b[0masarray\u001b[0m\u001b[0;34m(\u001b[0m\u001b[0mX_train\u001b[0m\u001b[0;34m)\u001b[0m\u001b[0;34m.\u001b[0m\u001b[0mreshape\u001b[0m\u001b[0;34m(\u001b[0m\u001b[0mN\u001b[0m\u001b[0;34m*\u001b[0m\u001b[0mF\u001b[0m\u001b[0;34m,\u001b[0m \u001b[0;36m29\u001b[0m\u001b[0;34m,\u001b[0m \u001b[0;36m3\u001b[0m\u001b[0;34m)\u001b[0m\u001b[0;34m\u001b[0m\u001b[0;34m\u001b[0m\u001b[0m\n",
      "\u001b[0;31mMemoryError\u001b[0m: "
     ]
    }
   ],
   "source": [
    "# F = len(X_train[0]) # number of frames\n",
    "# N = len(X_train) # length of dataset\n",
    "# K = np.zeros((N*F, N*F))\n",
    "\n",
    "# reshaped_X_train = np.asarray(X_train).reshape(N*F, 29, 3)\n",
    "# for i, j in tqdm_notebook(itertools.product(range(N*F), range(N*F)), total=(N*F)**2):\n",
    "#     S1 , S2 = reshaped_X_train[i], reshaped_X_train[j]\n",
    "#     S1 = utils.normalize_columns(utils.gram_schmidt(S1))\n",
    "#     S2 = utils.normalize_columns(utils.gram_schmidt(S2))\n",
    "\n",
    "#     K[i,j] = utils.grassman_kernel(S1, S2)"
   ]
  },
  {
   "cell_type": "markdown",
   "metadata": {},
   "source": [
    "Below we \n",
    "- Create shape subspaces for each frame\n",
    "- Calculate the kernel matrix of each sequence\n",
    "- Do 1-nn MSM\n",
    "or \n",
    "- Concatenate each kernel matrix"
   ]
  },
  {
   "cell_type": "code",
   "execution_count": null,
   "metadata": {},
   "outputs": [
    {
     "data": {
      "application/vnd.jupyter.widget-view+json": {
       "model_id": "cd6c5e348e2f402ebe0bb6bfd6d58f75",
       "version_major": 2,
       "version_minor": 0
      },
      "text/plain": [
       "HBox(children=(IntProgress(value=0, max=367), HTML(value='')))"
      ]
     },
     "metadata": {},
     "output_type": "display_data"
    }
   ],
   "source": [
    "F = len(X_train[0]) # number of frames\n",
    "N = len(X_train) # length of dataset\n",
    "\n",
    "\n",
    "seq_subspaces_train = []\n",
    "for x in tqdm_notebook(X_train):\n",
    "    K = np.zeros((F, F))\n",
    "    for i, j in itertools.product(range(F), range(F)):\n",
    "        S1 , S2 = x[i], x[j]\n",
    "        S1 = utils.normalize_columns(utils.gram_schmidt(S1))\n",
    "        S2 = utils.normalize_columns(utils.gram_schmidt(S2))\n",
    "\n",
    "        K[i,j] = utils.grassman_kernel(S1, S2)\n",
    "    seq_subspaces_train.append(utils.normalize_columns(utils.gram_schmidt(K)))"
   ]
  },
  {
   "cell_type": "code",
   "execution_count": null,
   "metadata": {},
   "outputs": [],
   "source": [
    "seq_subspaces_test = []\n",
    "for x in tqdm_notebook(X_test):\n",
    "    K = np.zeros((F, F))\n",
    "    for i, j in itertools.product(range(F), range(F)):\n",
    "        S1 , S2 = x[i], x[j]\n",
    "        S1 = utils.normalize_columns(utils.gram_schmidt(S1))\n",
    "        S2 = utils.normalize_columns(utils.gram_schmidt(S2))\n",
    "\n",
    "        K[i,j] = utils.grassman_kernel(S1, S2)\n",
    "    seq_subspaces_test.append(utils.normalize_columns(utils.gram_schmidt(K)))"
   ]
  },
  {
   "cell_type": "code",
   "execution_count": null,
   "metadata": {},
   "outputs": [],
   "source": [
    "scores = []\n",
    "for n_subdims in tqdm_notebook(range(1, 30)):\n",
    "    msm = MutualSubspaceMethod(n_subdims=n_subdims)\n",
    "    msm.fit(seq_subspaces_train, y_train)\n",
    "    scores.append(msm.score(seq_subspaces_test, y_test))\n",
    "    \n",
    "plt.plot(scores)\n",
    "plt.title(f'MSM {max(scores)}')\n",
    "plt.show()"
   ]
  },
  {
   "cell_type": "code",
   "execution_count": null,
   "metadata": {},
   "outputs": [],
   "source": [
    "scores = []\n",
    "n_subdims = 15 # scores.index(max(scores))\n",
    "for sigma in tqdm_notebook(np.logspace(-2, 2, 20)):\n",
    "    msm = KernelMSM(n_subdims=n_subdims, sigma=sigma)\n",
    "    msm.fit(seq_subspaces_train, y_train)\n",
    "    scores.append(msm.score(seq_subspaces_test, y_test))\n",
    "    \n",
    "plt.plot(scores)\n",
    "plt.title(f'KernelMSM {max(scores)}')\n",
    "plt.show()"
   ]
  },
  {
   "cell_type": "code",
   "execution_count": null,
   "metadata": {},
   "outputs": [],
   "source": [
    "scores = []\n",
    "for n_subdims in tqdm_notebook(range(1, 20)):\n",
    "    cmsm = ConstrainedMSM(n_subdims=n_subdims, n_gds_dims=n_subdims*2)\n",
    "    cmsm.fit(seq_subspaces_train, y_train)\n",
    "    scores.append(cmsm.score(seq_subspaces_test, y_test))\n",
    "    \n",
    "plt.plot(scores)\n",
    "plt.title(f'ConstrainedMSM {max(scores)}')\n",
    "plt.show()"
   ]
  },
  {
   "cell_type": "code",
   "execution_count": null,
   "metadata": {},
   "outputs": [],
   "source": [
    "# Guessing all as one\n",
    "print(len(y_test[y_test==0])/len(y_test))"
   ]
  },
  {
   "cell_type": "code",
   "execution_count": null,
   "metadata": {},
   "outputs": [],
   "source": []
  }
 ],
 "metadata": {
  "kernelspec": {
   "display_name": "Python 3",
   "language": "python",
   "name": "python3"
  },
  "language_info": {
   "codemirror_mode": {
    "name": "ipython",
    "version": 3
   },
   "file_extension": ".py",
   "mimetype": "text/x-python",
   "name": "python",
   "nbconvert_exporter": "python",
   "pygments_lexer": "ipython3",
   "version": "3.7.3"
  }
 },
 "nbformat": 4,
 "nbformat_minor": 2
}
