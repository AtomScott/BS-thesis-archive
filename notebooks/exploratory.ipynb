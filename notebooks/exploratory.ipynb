{
 "cells": [
  {
   "cell_type": "code",
   "execution_count": 3,
   "metadata": {},
   "outputs": [
    {
     "name": "stdout",
     "output_type": "stream",
     "text": [
      "/home/atom/cvlab/thesis\n"
     ]
    }
   ],
   "source": [
    "import os\n",
    "os.chdir('/home/atom/cvlab/thesis/')\n",
    "print(os.getcwd())"
   ]
  },
  {
   "cell_type": "markdown",
   "metadata": {},
   "source": [
    "# Exploratory Analysis"
   ]
  },
  {
   "cell_type": "code",
   "execution_count": 4,
   "metadata": {},
   "outputs": [],
   "source": [
    "from dataset.dataset import JumpPoseDataset\n",
    "\n",
    "pose_paths = './dataset/marker_data'\n",
    "info_path = './dataset/info.xlsx'\n",
    "dataset = JumpPoseDataset(pose_paths, info_path, mode='3D')"
   ]
  },
  {
   "cell_type": "code",
   "execution_count": 5,
   "metadata": {},
   "outputs": [
    {
     "data": {
      "text/plain": [
       "(40, 40, 40)"
      ]
     },
     "execution_count": 5,
     "metadata": {},
     "output_type": "execute_result"
    }
   ],
   "source": [
    "from chainer.dataset import concat_examples\n",
    "\n",
    "N = len(dataset)\n",
    "poses, labels = zip(*dataset)\n",
    "SorF, BorG, Fz, ms, skill = zip(*labels)\n",
    "len(poses), len(labels), N"
   ]
  },
  {
   "cell_type": "markdown",
   "metadata": {},
   "source": [
    "## Pose Data"
   ]
  },
  {
   "cell_type": "code",
   "execution_count": 6,
   "metadata": {},
   "outputs": [],
   "source": [
    "import numpy as np\n",
    "import pandas as pd\n",
    "\n",
    "pose_lens = [len(pose) for pose in poses]\n",
    "pose_df = pd.DataFrame({\n",
    "    'Sequence Lengths' : pose_lens})\n",
    "pose_desc = pose_df.describe()"
   ]
  },
  {
   "cell_type": "code",
   "execution_count": 10,
   "metadata": {},
   "outputs": [
    {
     "data": {
      "text/html": [
       "<div>\n",
       "<style scoped>\n",
       "    .dataframe tbody tr th:only-of-type {\n",
       "        vertical-align: middle;\n",
       "    }\n",
       "\n",
       "    .dataframe tbody tr th {\n",
       "        vertical-align: top;\n",
       "    }\n",
       "\n",
       "    .dataframe thead th {\n",
       "        text-align: right;\n",
       "    }\n",
       "</style>\n",
       "<table border=\"1\" class=\"dataframe\">\n",
       "  <thead>\n",
       "    <tr style=\"text-align: right;\">\n",
       "      <th></th>\n",
       "      <th>Sequence Lengths</th>\n",
       "      <th>X-coordinates</th>\n",
       "      <th>Y-coordinates</th>\n",
       "      <th>Z-coordinates</th>\n",
       "    </tr>\n",
       "  </thead>\n",
       "  <tbody>\n",
       "    <tr>\n",
       "      <th>count</th>\n",
       "      <td>40.000000</td>\n",
       "      <td>1.277885e+06</td>\n",
       "      <td>1.277885e+06</td>\n",
       "      <td>1.277885e+06</td>\n",
       "    </tr>\n",
       "    <tr>\n",
       "      <th>mean</th>\n",
       "      <td>1101.625000</td>\n",
       "      <td>-2.591426e-02</td>\n",
       "      <td>2.824043e-01</td>\n",
       "      <td>6.734720e-01</td>\n",
       "    </tr>\n",
       "    <tr>\n",
       "      <th>std</th>\n",
       "      <td>178.294295</td>\n",
       "      <td>2.466044e-01</td>\n",
       "      <td>9.193908e-02</td>\n",
       "      <td>5.271293e-01</td>\n",
       "    </tr>\n",
       "    <tr>\n",
       "      <th>min</th>\n",
       "      <td>636.000000</td>\n",
       "      <td>-4.593550e-01</td>\n",
       "      <td>-4.343230e-01</td>\n",
       "      <td>7.595000e-03</td>\n",
       "    </tr>\n",
       "    <tr>\n",
       "      <th>25%</th>\n",
       "      <td>1056.000000</td>\n",
       "      <td>-2.471690e-01</td>\n",
       "      <td>2.314160e-01</td>\n",
       "      <td>3.275910e-01</td>\n",
       "    </tr>\n",
       "    <tr>\n",
       "      <th>50%</th>\n",
       "      <td>1158.000000</td>\n",
       "      <td>-1.184320e-01</td>\n",
       "      <td>2.838870e-01</td>\n",
       "      <td>4.242400e-01</td>\n",
       "    </tr>\n",
       "    <tr>\n",
       "      <th>75%</th>\n",
       "      <td>1213.750000</td>\n",
       "      <td>2.019270e-01</td>\n",
       "      <td>3.378360e-01</td>\n",
       "      <td>1.145362e+00</td>\n",
       "    </tr>\n",
       "    <tr>\n",
       "      <th>max</th>\n",
       "      <td>1359.000000</td>\n",
       "      <td>6.038880e-01</td>\n",
       "      <td>1.130581e+00</td>\n",
       "      <td>1.834448e+00</td>\n",
       "    </tr>\n",
       "  </tbody>\n",
       "</table>\n",
       "</div>"
      ],
      "text/plain": [
       "       Sequence Lengths  X-coordinates  Y-coordinates  Z-coordinates\n",
       "count         40.000000   1.277885e+06   1.277885e+06   1.277885e+06\n",
       "mean        1101.625000  -2.591426e-02   2.824043e-01   6.734720e-01\n",
       "std          178.294295   2.466044e-01   9.193908e-02   5.271293e-01\n",
       "min          636.000000  -4.593550e-01  -4.343230e-01   7.595000e-03\n",
       "25%         1056.000000  -2.471690e-01   2.314160e-01   3.275910e-01\n",
       "50%         1158.000000  -1.184320e-01   2.838870e-01   4.242400e-01\n",
       "75%         1213.750000   2.019270e-01   3.378360e-01   1.145362e+00\n",
       "max         1359.000000   6.038880e-01   1.130581e+00   1.834448e+00"
      ]
     },
     "execution_count": 10,
     "metadata": {},
     "output_type": "execute_result"
    }
   ],
   "source": [
    "xs, ys, zs = [] ,[] ,[]\n",
    "for pose in poses:\n",
    "    xs = np.append(xs, np.ravel(pose.T[0]))\n",
    "    zs = np.append(zs, np.ravel(pose.T[1]))\n",
    "    ys = np.append(ys, np.ravel(pose.T[2]))\n",
    "\n",
    "xyz_df = pd.DataFrame({    \n",
    "    'X-coordinates': xs,\n",
    "    'Y-coordinates': ys,\n",
    "    'Z-coordinates': zs})\n",
    "xyz_desc = xyz_df.describe()\n",
    "pd.concat((pose_desc, xyz_desc), axis=1)"
   ]
  },
  {
   "cell_type": "markdown",
   "metadata": {},
   "source": [
    "## Pose Discription for Success/Fail"
   ]
  },
  {
   "cell_type": "code",
   "execution_count": 15,
   "metadata": {
    "scrolled": true
   },
   "outputs": [],
   "source": [
    "for x in range(2):\n",
    "    pose_lens, xs, ys, zs = [], [] ,[] ,[]\n",
    "\n",
    "    for pose, label in zip(poses, labels):\n",
    "        if label[0] == x:\n",
    "            pose_lens.append(len(pose))\n",
    "\n",
    "            xs = np.append(xs, np.ravel(pose.T[0]))\n",
    "            zs = np.append(zs, np.ravel(pose.T[1]))\n",
    "            ys = np.append(ys, np.ravel(pose.T[2]))\n",
    "\n",
    "            pose_df = pd.DataFrame({\n",
    "                'Sequence Lengths' : pose_lens})\n",
    "            pose_desc = pose_df.describe()\n",
    "\n",
    "            xyz_df = pd.DataFrame({    \n",
    "                'X-coordinates': xs,\n",
    "                'Y-coordinates': ys,\n",
    "                'Z-coordinates': zs})\n",
    "            xyz_desc = xyz_df.describe()\n",
    "            \n",
    "            pd.concat((pose_desc, xyz_desc), axis=1).to_latex(f'./pose_description_{x}.tex',float_format=lambda x: '%.3f' % x)"
   ]
  },
  {
   "cell_type": "code",
   "execution_count": null,
   "metadata": {},
   "outputs": [],
   "source": [
    "pd.concat((pose_desc, xyz_desc), axis=1).to_latex('./pose_description.tex',float_format=lambda x: '%.3f' % x)"
   ]
  },
  {
   "cell_type": "code",
   "execution_count": null,
   "metadata": {},
   "outputs": [],
   "source": [
    "import seaborn as sns\n",
    "import matplotlib.pyplot as plt\n",
    "import matplotlib.style as style\n",
    "style.use('seaborn-dark-palette')\n",
    "\n",
    "for data in [xs, ys, zs]:\n",
    "    sns.distplot(data)\n",
    "plt.title('Histogram of points for each axis')\n",
    "plt.legend(['X-axis', 'Y-axis', 'Z-axis'])\n",
    "plt.show()"
   ]
  },
  {
   "cell_type": "code",
   "execution_count": null,
   "metadata": {},
   "outputs": [],
   "source": [
    "import matplotlib.pyplot as plt\n",
    "from mpl_toolkits.mplot3d import Axes3D\n",
    "fig = plt.figure()\n",
    "ax = fig.add_subplot(111, projection='3d')\n",
    "\n",
    "ax.set_xlim(-0.5, 0.5)\n",
    "ax.set_ylim(-0.5, 0.5)\n",
    "ax.set_zlim(0.5, 2)\n",
    "xs, zs, ys = poses[0][0].T\n",
    "ax.scatter(xs, ys, zs)"
   ]
  },
  {
   "cell_type": "markdown",
   "metadata": {},
   "source": [
    "## Labels"
   ]
  },
  {
   "cell_type": "code",
   "execution_count": null,
   "metadata": {},
   "outputs": [],
   "source": [
    "import pandas as pd\n",
    "df1 = pd.DataFrame(\n",
    "    {\n",
    "        'Success or Fail':SorF,\n",
    "        'Bad or Good':BorG,\n",
    "        'Max Force': Fz,\n",
    "        'Time of Max Force': ms,\n",
    "        'Absortion Skill': skill\n",
    "        })\n",
    "df1.describe().to_latex('./label_description.tex',float_format=lambda x: '%.3f' % x)\n",
    "df1.describe()"
   ]
  },
  {
   "cell_type": "code",
   "execution_count": null,
   "metadata": {},
   "outputs": [],
   "source": [
    "df2 = pd.DataFrame({       'Success or Fail':SorF,\n",
    "        'Bad or Good':BorG})\n",
    "    \n",
    "for key, item in df2.items():\n",
    "    print(item.value_counts(), end='\\n\\n')"
   ]
  },
  {
   "cell_type": "code",
   "execution_count": null,
   "metadata": {},
   "outputs": [],
   "source": [
    "sns.set_style(\"darkgrid\")\n",
    "sns.pairplot(df1)\n",
    "plt.show()"
   ]
  },
  {
   "cell_type": "code",
   "execution_count": null,
   "metadata": {},
   "outputs": [],
   "source": []
  }
 ],
 "metadata": {
  "file_extension": ".py",
  "kernelspec": {
   "display_name": "Python 3",
   "language": "python",
   "name": "python3"
  },
  "language_info": {
   "codemirror_mode": {
    "name": "ipython",
    "version": 3
   },
   "file_extension": ".py",
   "mimetype": "text/x-python",
   "name": "python",
   "nbconvert_exporter": "python",
   "pygments_lexer": "ipython3",
   "version": "3.7.3"
  },
  "mimetype": "text/x-python",
  "name": "python",
  "npconvert_exporter": "python",
  "pygments_lexer": "ipython3",
  "version": 3
 },
 "nbformat": 4,
 "nbformat_minor": 4
}
