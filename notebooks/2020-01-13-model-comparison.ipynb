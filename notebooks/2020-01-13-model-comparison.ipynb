{
 "cells": [
  {
   "cell_type": "code",
   "execution_count": 1,
   "metadata": {},
   "outputs": [
    {
     "name": "stdout",
     "output_type": "stream",
     "text": [
      "/home/atom/cvlab/thesis\n"
     ]
    }
   ],
   "source": [
    "import os\n",
    "# Check cwd\n",
    "os.chdir('/home/atom/cvlab/thesis/') \n",
    "# os.chdir('/home/member/github/BS-thesis') \n",
    "# BS-thesis should be root\n",
    "print(os.getcwd())"
   ]
  },
  {
   "cell_type": "code",
   "execution_count": 2,
   "metadata": {},
   "outputs": [
    {
     "ename": "ModuleNotFoundError",
     "evalue": "No module named 'cvt'",
     "output_type": "error",
     "traceback": [
      "\u001b[0;31m---------------------------------------------------------------------------\u001b[0m",
      "\u001b[0;31mModuleNotFoundError\u001b[0m                       Traceback (most recent call last)",
      "\u001b[0;32m<ipython-input-2-cdd449dd8942>\u001b[0m in \u001b[0;36m<module>\u001b[0;34m\u001b[0m\n\u001b[1;32m     10\u001b[0m \u001b[0;32mimport\u001b[0m \u001b[0msys\u001b[0m\u001b[0;34m\u001b[0m\u001b[0;34m\u001b[0m\u001b[0m\n\u001b[1;32m     11\u001b[0m \u001b[0msys\u001b[0m\u001b[0;34m.\u001b[0m\u001b[0mpath\u001b[0m\u001b[0;34m.\u001b[0m\u001b[0mappend\u001b[0m\u001b[0;34m(\u001b[0m\u001b[0;34m'./cvlab_toolbox/'\u001b[0m\u001b[0;34m)\u001b[0m\u001b[0;34m\u001b[0m\u001b[0;34m\u001b[0m\u001b[0m\n\u001b[0;32m---> 12\u001b[0;31m \u001b[0;32mfrom\u001b[0m \u001b[0mcvt\u001b[0m\u001b[0;34m.\u001b[0m\u001b[0mmodels\u001b[0m \u001b[0;32mimport\u001b[0m \u001b[0mSubspaceMethod\u001b[0m\u001b[0;34m,\u001b[0m \u001b[0mMutualSubspaceMethod\u001b[0m\u001b[0;34m\u001b[0m\u001b[0;34m\u001b[0m\u001b[0m\n\u001b[0m\u001b[1;32m     13\u001b[0m \u001b[0;34m\u001b[0m\u001b[0m\n\u001b[1;32m     14\u001b[0m \u001b[0;32mimport\u001b[0m \u001b[0mmy_pkg\u001b[0m\u001b[0;34m.\u001b[0m\u001b[0mdataset\u001b[0m\u001b[0;34m\u001b[0m\u001b[0;34m\u001b[0m\u001b[0m\n",
      "\u001b[0;31mModuleNotFoundError\u001b[0m: No module named 'cvt'"
     ]
    }
   ],
   "source": [
    "# Dependencies\n",
    "import glob\n",
    "from functools import partial\n",
    "\n",
    "import matplotlib.pyplot as plt\n",
    "import numpy as np\n",
    "from torch.utils.data import Dataset, DataLoader\n",
    "from sklearn.model_selection import train_test_split \n",
    "\n",
    "import sys\n",
    "sys.path.append('./cvlab_toolbox/')\n",
    "from cvt.models import SubspaceMethod, MutualSubspaceMethod\n",
    "\n",
    "import my_pkg.dataset\n",
    "import my_pkg.utils"
   ]
  },
  {
   "cell_type": "code",
   "execution_count": null,
   "metadata": {},
   "outputs": [],
   "source": [
    "# reloading stuff\n",
    "import importlib\n",
    "importlib.reload(my_pkg.dataset);\n",
    "importlib.reload(my_pkg.utils);"
   ]
  },
  {
   "cell_type": "markdown",
   "metadata": {},
   "source": [
    "# Model Comparison\n",
    "\n",
    "Models to test today:\n",
    "\n",
    "- MSM\n",
    "- KMSM\n",
    "- CMSM\n",
    "\n",
    "Models to test later:\n",
    "\n",
    "- KCMSM\n",
    "- GDA\n",
    "- eGDA\n",
    "- ARMA"
   ]
  },
  {
   "cell_type": "markdown",
   "metadata": {},
   "source": [
    "## Necessary preprocessing\n",
    "\n",
    "### Read the data "
   ]
  },
  {
   "cell_type": "code",
   "execution_count": 11,
   "metadata": {},
   "outputs": [],
   "source": [
    "pose_paths = glob.glob('./data/marker/*.csv')\n",
    "grf_paths = glob.glob('./data/GRF/*.csv')\n",
    "info_path = './data/info.xlsx'\n",
    "dataset = my_pkg.dataset.SLJDataset(pose_paths, grf_paths, info_path)"
   ]
  },
  {
   "cell_type": "code",
   "execution_count": 12,
   "metadata": {},
   "outputs": [
    {
     "name": "stdout",
     "output_type": "stream",
     "text": [
      "pose: (1099, 29, 3)\n",
      "trunc_pose: (542, 29, 3)\n",
      "grf: (11609, 5)\n",
      "label: [0 1 0 0 0 0]\n"
     ]
    }
   ],
   "source": [
    "pose, trunc_pose, grf, label = dataset[0].values()\n",
    "\n",
    "print(f'pose: {pose.shape}')\n",
    "print(f'trunc_pose: {trunc_pose.shape}')\n",
    "print(f'grf: {grf.shape}')\n",
    "print(f'label: {label}')"
   ]
  },
  {
   "cell_type": "markdown",
   "metadata": {},
   "source": [
    "### Applying a transformation to fix length\n",
    "\n",
    "Here we will use trunc_pose (the 3D pose data right until jump landing). We can crop the last 3 seconds (300 frames) and use it for PCA."
   ]
  },
  {
   "cell_type": "code",
   "execution_count": 13,
   "metadata": {},
   "outputs": [
    {
     "name": "stdout",
     "output_type": "stream",
     "text": [
      "new trunc_pose: (300, 29, 3)\n"
     ]
    }
   ],
   "source": [
    "def transform(sample):\n",
    "    sample['trunc_pose'] = sample['trunc_pose'][-300:]\n",
    "    return sample    \n",
    "\n",
    "dataset.transforms = [transform] \n",
    "pose, trunc_pose, grf, label = dataset[0].values()\n",
    "\n",
    "# transforms are applied on __getitem__\n",
    "print(f'new trunc_pose: {trunc_pose.shape}') "
   ]
  },
  {
   "cell_type": "code",
   "execution_count": 14,
   "metadata": {},
   "outputs": [],
   "source": [
    "# Put all trunc poses in X and labels in Y\n",
    "X, Y = [], []\n",
    "for i in range(len(dataset)):\n",
    "    _, trunc_pose, _, label = dataset[i].values()\n",
    "    X.append(trunc_pose)\n",
    "    Y.append(label)\n",
    "        \n",
    "X = np.asarray(X)\n",
    "Y = np.asarray(Y)"
   ]
  },
  {
   "cell_type": "code",
   "execution_count": 15,
   "metadata": {},
   "outputs": [],
   "source": [
    "# first only do with y[:,0]\n",
    "Y = Y[:, 0]"
   ]
  },
  {
   "cell_type": "markdown",
   "metadata": {},
   "source": [
    "### Split test & train"
   ]
  },
  {
   "cell_type": "code",
   "execution_count": 16,
   "metadata": {},
   "outputs": [],
   "source": [
    "X_train, X_test, y_train, y_test = train_test_split(X, Y, test_size=0.3, stratify=Y)\n",
    "\n",
    "# Create vectorized versions for SM etc.\n",
    "d1, d2, d3, d4 = X_train.shape\n",
    "Xv_train = X_train.reshape(d1, d2*d3*d4)\n",
    "\n",
    "d1, d2, d3, d4 = X_test.shape\n",
    "Xv_test = X_test.reshape(d1, d2*d3*d4)"
   ]
  },
  {
   "cell_type": "code",
   "execution_count": 17,
   "metadata": {},
   "outputs": [
    {
     "name": "stdout",
     "output_type": "stream",
     "text": [
      "0.819672131147541\n",
      "0.8164556962025317\n"
     ]
    }
   ],
   "source": [
    "# Stratified?\n",
    "print(len(Xv_train[y_train==0]) / len(Xv_train))\n",
    "print(len(Xv_test[y_test==0]) / len(Xv_test))"
   ]
  },
  {
   "cell_type": "code",
   "execution_count": 18,
   "metadata": {},
   "outputs": [],
   "source": [
    "from sklearn import metrics\n",
    "\n",
    "\n",
    "def plot_stats(classifier):\n",
    "    y_pred = classifier.predict(Xv_test)\n",
    "    disp = metrics.plot_confusion_matrix(classifier, Xv_test, y_test)\n",
    "    disp.figure_.suptitle(f\"Confusion Matrix score: {classifier.score( Xv_test, y_test)}\")\n",
    "    print(\"Classification report for classifier %s:\\n%s\\n\"\n",
    "          % (classifier, metrics.classification_report(y_test, y_pred)))\n",
    "    plt.show()"
   ]
  },
  {
   "cell_type": "markdown",
   "metadata": {},
   "source": [
    "## SM"
   ]
  },
  {
   "cell_type": "code",
   "execution_count": 20,
   "metadata": {},
   "outputs": [
    {
     "data": {
      "image/png": "[encoded data removed]",
      "text/plain": [
       "<Figure size 432x288 with 1 Axes>"
      ]
     },
     "metadata": {
      "needs_background": "light"
     },
     "output_type": "display_data"
    },
    {
     "name": "stdout",
     "output_type": "stream",
     "text": [
      "Classification report for classifier SubspaceMethod(n_subdims=65, normalize=False):\n",
      "              precision    recall  f1-score   support\n",
      "\n",
      "           0       0.82      0.90      0.86       129\n",
      "           1       0.24      0.14      0.17        29\n",
      "\n",
      "    accuracy                           0.76       158\n",
      "   macro avg       0.53      0.52      0.52       158\n",
      "weighted avg       0.71      0.76      0.73       158\n",
      "\n",
      "\n"
     ]
    },
    {
     "data": {
      "image/png": "[encoded data removed]",
      "text/plain": [
       "<Figure size 432x288 with 2 Axes>"
      ]
     },
     "metadata": {
      "needs_background": "light"
     },
     "output_type": "display_data"
    }
   ],
   "source": [
    "mn_size = len(Xv_train[y_train==1])\n",
    "\n",
    "scores = []\n",
    "for i in range(1, mn_size):\n",
    "    msm = SubspaceMethod(n_subdims=i)\n",
    "    msm.fit(*my_pkg.utils.format_input(Xv_train, y_train))\n",
    "    scores.append(msm.score(Xv_test, y_test))\n",
    "    \n",
    "plt.plot(scores)\n",
    "plt.title(max(scores))\n",
    "plt.show()\n",
    "\n",
    "msm.classes_ = np.unique(Y)\n",
    "plot_stats(msm)"
   ]
  },
  {
   "cell_type": "markdown",
   "metadata": {},
   "source": [
    "### MSM"
   ]
  },
  {
   "cell_type": "code",
   "execution_count": null,
   "metadata": {},
   "outputs": [],
   "source": []
  },
  {
   "cell_type": "code",
   "execution_count": 21,
   "metadata": {},
   "outputs": [
    {
     "ename": "NameError",
     "evalue": "name 'test_size' is not defined",
     "output_type": "error",
     "traceback": [
      "\u001b[0;31m---------------------------------------------------------------------------\u001b[0m",
      "\u001b[0;31mNameError\u001b[0m                                 Traceback (most recent call last)",
      "\u001b[0;32m<ipython-input-21-e27c16b59f69>\u001b[0m in \u001b[0;36m<module>\u001b[0;34m\u001b[0m\n\u001b[1;32m      2\u001b[0m \u001b[0;34m\u001b[0m\u001b[0m\n\u001b[1;32m      3\u001b[0m \u001b[0mscores\u001b[0m \u001b[0;34m=\u001b[0m \u001b[0;34m[\u001b[0m\u001b[0;34m]\u001b[0m\u001b[0;34m\u001b[0m\u001b[0;34m\u001b[0m\u001b[0m\n\u001b[0;32m----> 4\u001b[0;31m \u001b[0;32mfor\u001b[0m \u001b[0mi\u001b[0m \u001b[0;32min\u001b[0m \u001b[0mrange\u001b[0m\u001b[0;34m(\u001b[0m\u001b[0;36m1\u001b[0m\u001b[0;34m,\u001b[0m \u001b[0mtest_size\u001b[0m\u001b[0;34m)\u001b[0m\u001b[0;34m:\u001b[0m\u001b[0;34m\u001b[0m\u001b[0;34m\u001b[0m\u001b[0m\n\u001b[0m\u001b[1;32m      5\u001b[0m     \u001b[0mmsm\u001b[0m \u001b[0;34m=\u001b[0m \u001b[0mSubspaceMethod\u001b[0m\u001b[0;34m(\u001b[0m\u001b[0mn_subdims\u001b[0m\u001b[0;34m=\u001b[0m\u001b[0mi\u001b[0m\u001b[0;34m)\u001b[0m\u001b[0;34m\u001b[0m\u001b[0;34m\u001b[0m\u001b[0m\n\u001b[1;32m      6\u001b[0m     \u001b[0mmsm\u001b[0m\u001b[0;34m.\u001b[0m\u001b[0mfit\u001b[0m\u001b[0;34m(\u001b[0m\u001b[0;34m*\u001b[0m\u001b[0mmy_pkg\u001b[0m\u001b[0;34m.\u001b[0m\u001b[0mutils\u001b[0m\u001b[0;34m.\u001b[0m\u001b[0mformat_input\u001b[0m\u001b[0;34m(\u001b[0m\u001b[0mXv_train\u001b[0m\u001b[0;34m,\u001b[0m \u001b[0my_train\u001b[0m\u001b[0;34m)\u001b[0m\u001b[0;34m)\u001b[0m\u001b[0;34m\u001b[0m\u001b[0;34m\u001b[0m\u001b[0m\n",
      "\u001b[0;31mNameError\u001b[0m: name 'test_size' is not defined"
     ]
    }
   ],
   "source": [
    "mn_size = len(Xv_train[y_train==1])\n",
    "\n",
    "scores = []\n",
    "for i in range(1, test_size):\n",
    "    msm = SubspaceMethod(n_subdims=i)\n",
    "    msm.fit(*my_pkg.utils.format_input(Xv_train, y_train))\n",
    "    scores.append(msm.score(Xv_test, y_test))\n",
    "    \n",
    "plt.plot(scores)\n",
    "plt.title(max(scores))\n",
    "plt.show()"
   ]
  },
  {
   "cell_type": "markdown",
   "metadata": {},
   "source": [
    "### LDA"
   ]
  },
  {
   "cell_type": "code",
   "execution_count": 22,
   "metadata": {},
   "outputs": [
    {
     "data": {
      "image/png": "[encoded data removed]",
      "text/plain": [
       "<Figure size 432x288 with 1 Axes>"
      ]
     },
     "metadata": {
      "needs_background": "light"
     },
     "output_type": "display_data"
    },
    {
     "name": "stdout",
     "output_type": "stream",
     "text": [
      "Classification report for classifier LinearDiscriminantAnalysis(n_components=None, priors=None, shrinkage=None,\n",
      "                           solver='svd', store_covariance=False, tol=0.0001):\n",
      "              precision    recall  f1-score   support\n",
      "\n",
      "           0       0.82      0.74      0.78       129\n",
      "           1       0.20      0.28      0.23        29\n",
      "\n",
      "    accuracy                           0.66       158\n",
      "   macro avg       0.51      0.51      0.50       158\n",
      "weighted avg       0.71      0.66      0.68       158\n",
      "\n",
      "\n"
     ]
    },
    {
     "data": {
      "image/png": "[encoded data removed]",
      "text/plain": [
       "<Figure size 432x288 with 2 Axes>"
      ]
     },
     "metadata": {
      "needs_background": "light"
     },
     "output_type": "display_data"
    }
   ],
   "source": [
    "from sklearn.discriminant_analysis import LinearDiscriminantAnalysis\n",
    "\n",
    "lda = LinearDiscriminantAnalysis()\n",
    "\n",
    "fig, ax = plt.subplots()\n",
    "\n",
    "X_lda = lda.fit_transform(Xv_train, y_train)\n",
    "c1 = X_lda[y_train==0]\n",
    "c2 = X_lda[y_train==1]\n",
    "ax.hist(c1, label=f'{dataset.label_info[0]}=0 (train)')\n",
    "ax.hist(c2, label=f'{dataset.label_info[0]}=1 (train)')\n",
    "\n",
    "X_lda = lda.transform(Xv_test)\n",
    "c1 = X_lda[y_test==0]\n",
    "c2 = X_lda[y_test==1]\n",
    "ax.hist(c1, label=f'{dataset.label_info[0]}=0 (test)')\n",
    "ax.hist(c2, label=f'{dataset.label_info[0]}=1 (test)')\n",
    "\n",
    "ax.set_title(dataset.label_info[0])\n",
    "ax.axis('off')\n",
    "ax.legend()\n",
    "plt.show()\n",
    "\n",
    "plot_stats(lda)"
   ]
  },
  {
   "cell_type": "code",
   "execution_count": null,
   "metadata": {},
   "outputs": [],
   "source": [
    "\n"
   ]
  },
  {
   "cell_type": "code",
   "execution_count": null,
   "metadata": {},
   "outputs": [],
   "source": []
  },
  {
   "cell_type": "code",
   "execution_count": null,
   "metadata": {},
   "outputs": [],
   "source": []
  },
  {
   "cell_type": "code",
   "execution_count": null,
   "metadata": {},
   "outputs": [],
   "source": []
  }
 ],
 "metadata": {
  "kernelspec": {
   "display_name": "Python 3",
   "language": "python",
   "name": "python3"
  },
  "language_info": {
   "codemirror_mode": {
    "name": "ipython",
    "version": 3
   },
   "file_extension": ".py",
   "mimetype": "text/x-python",
   "name": "python",
   "nbconvert_exporter": "python",
   "pygments_lexer": "ipython3",
   "version": "3.7.3"
  }
 },
 "nbformat": 4,
 "nbformat_minor": 2
}
