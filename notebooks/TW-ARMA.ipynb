{
 "cells": [
  {
   "cell_type": "code",
   "execution_count": 3,
   "metadata": {},
   "outputs": [
    {
     "name": "stdout",
     "output_type": "stream",
     "text": [
      "/home/atom/cvlab/thesis\n"
     ]
    }
   ],
   "source": [
    "import os, math, saxpy\n",
    "import numpy as np\n",
    "import pandas as pd\n",
    "from scipy import signal\n",
    "\n",
    "os.chdir('/home/atom/cvlab/thesis/')\n",
    "print(os.getcwd())"
   ]
  },
  {
   "cell_type": "markdown",
   "metadata": {},
   "source": [
    "## Data preparation"
   ]
  },
  {
   "cell_type": "code",
   "execution_count": 4,
   "metadata": {},
   "outputs": [],
   "source": [
    "from dataset.dataset import JumpPoseDataset\n",
    "\n",
    "pose_paths = './dataset/marker_data'\n",
    "info_path = './dataset/info.xlsx'\n",
    "dataset = JumpPoseDataset(pose_paths, info_path, mode='vector')\n",
    "poses, labels = zip(*dataset)"
   ]
  },
  {
   "cell_type": "markdown",
   "metadata": {},
   "source": [
    "# Training Phase"
   ]
  },
  {
   "cell_type": "code",
   "execution_count": 96,
   "metadata": {},
   "outputs": [],
   "source": [
    "X = poses[0].T"
   ]
  },
  {
   "cell_type": "markdown",
   "metadata": {},
   "source": [
    "## Step 1.\n",
    "\n",
    "A set of Ns TW-ARMA models is generated from each sequence of each class using random sample of ARMA models."
   ]
  },
  {
   "cell_type": "markdown",
   "metadata": {},
   "source": [
    "### Make Arma Model"
   ]
  },
  {
   "cell_type": "code",
   "execution_count": 112,
   "metadata": {},
   "outputs": [
    {
     "name": "stderr",
     "output_type": "stream",
     "text": [
      "/home/atom/anaconda3/lib/python3.7/site-packages/ipykernel_launcher.py:20: RuntimeWarning: overflow encountered in power\n"
     ]
    }
   ],
   "source": [
    "# SVD\n",
    "U, s, vh = np.linalg.svd(X, full_matrices=False)\n",
    "S = np.diag(s)\n",
    "V = vh.T\n",
    "C = U # measurement matrix\n",
    "\n",
    "tau = X.shape[1]-1 # sequence length\n",
    "id_mat = np.eye(tau)\n",
    "D1 = np.block([\n",
    "    [np.zeros((1, id_mat.shape[0])),    0],\n",
    "    [id_mat,    np.zeros((id_mat.shape[0], 1))]\n",
    "])\n",
    "D2 = np.block([\n",
    "    [id_mat,np.zeros((id_mat.shape[0],1))],\n",
    "    [np.zeros((1,id_mat.shape[0])),    0]\n",
    "])\n",
    "\n",
    "A = S @ V.T @ D1 @ V @ np.linalg.inv(V.T@D2@V) @ np.linalg.inv(S)# transition matrix\n",
    "\n",
    "O = np.array([C@(A**i) for i in range(tau)]) # O gets overflow..."
   ]
  },
  {
   "cell_type": "markdown",
   "metadata": {},
   "source": [
    "## Step 2."
   ]
  },
  {
   "cell_type": "markdown",
   "metadata": {},
   "source": [
    "## Step 3. "
   ]
  },
  {
   "cell_type": "markdown",
   "metadata": {},
   "source": [
    "## Step 4. "
   ]
  },
  {
   "cell_type": "markdown",
   "metadata": {},
   "source": [
    "## Step 5. "
   ]
  },
  {
   "cell_type": "code",
   "execution_count": null,
   "metadata": {},
   "outputs": [],
   "source": [
    "def TERMS(vec, num, size):\n",
    "    vec = np.asarray([vec[sorted(np.random.randint(len(vec), size=size))] for _ in range(num)])\n",
    "    if num == 1:\n",
    "        return vec[0]\n",
    "    else:\n",
    "        return vec"
   ]
  }
 ],
 "metadata": {
  "kernelspec": {
   "display_name": "Python 3",
   "language": "python",
   "name": "python3"
  },
  "language_info": {
   "codemirror_mode": {
    "name": "ipython",
    "version": 3
   },
   "file_extension": ".py",
   "mimetype": "text/x-python",
   "name": "python",
   "nbconvert_exporter": "python",
   "pygments_lexer": "ipython3",
   "version": "3.7.3"
  }
 },
 "nbformat": 4,
 "nbformat_minor": 2
}
