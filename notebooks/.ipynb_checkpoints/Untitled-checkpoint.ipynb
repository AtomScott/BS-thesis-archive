{
 "cells": [
  {
   "cell_type": "markdown",
   "metadata": {},
   "source": [
    "# How to read data\n",
    "\n",
    "Use JumpPoseDataset in dataset.py to create a dataset that iterates over jump (xyzt) data and its label data as a tuple."
   ]
  },
  {
   "cell_type": "code",
   "execution_count": 1,
   "metadata": {},
   "outputs": [],
   "source": [
    "import sys\n",
    "sys.path.append('..')\n",
    "from dataset.dataset import JumpPoseDataset"
   ]
  },
  {
   "cell_type": "code",
   "execution_count": 2,
   "metadata": {},
   "outputs": [
    {
     "name": "stdout",
     "output_type": "stream",
     "text": [
      "(1137, 29, 3) (5,)\n"
     ]
    }
   ],
   "source": [
    "pose_paths = '../dataset/data'\n",
    "info_path = '../dataset/info.xlsx'\n",
    "dataset = JumpPoseDataset(pose_paths, info_path)\n",
    "pose, label = dataset.get_example(0)\n",
    "print(pose.shape, label.shape)"
   ]
  },
  {
   "cell_type": "markdown",
   "metadata": {},
   "source": [
    "# How to visualize data\n",
    "\n",
    "Use make_video from utls to make a .mp4 of the pose data."
   ]
  },
  {
   "cell_type": "code",
   "execution_count": null,
   "metadata": {},
   "outputs": [
    {
     "name": "stdout",
     "output_type": "stream",
     "text": [
      "643/1137\r"
     ]
    }
   ],
   "source": [
    "import utls\n",
    "from IPython.display import Video\n",
    "import importlib\n",
    "importlib.reload(utls)\n",
    "out = './assets/gifs/pose_example.mp4'\n",
    "utls.make_video(pose, out)\n",
    "Video(out)  "
   ]
  },
  {
   "cell_type": "code",
   "execution_count": null,
   "metadata": {},
   "outputs": [],
   "source": []
  }
 ],
 "metadata": {
  "kernelspec": {
   "display_name": "Python 3",
   "language": "python",
   "name": "python3"
  },
  "language_info": {
   "codemirror_mode": {
    "name": "ipython",
    "version": 3
   },
   "file_extension": ".py",
   "mimetype": "text/x-python",
   "name": "python",
   "nbconvert_exporter": "python",
   "pygments_lexer": "ipython3",
   "version": "3.7.3"
  }
 },
 "nbformat": 4,
 "nbformat_minor": 4
}
