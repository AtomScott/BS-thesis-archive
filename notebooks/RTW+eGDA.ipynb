{
 "cells": [
  {
   "cell_type": "code",
   "execution_count": 1,
   "metadata": {},
   "outputs": [
    {
     "name": "stdout",
     "output_type": "stream",
     "text": [
      "/home/atom/cvlab/thesis\n"
     ]
    }
   ],
   "source": [
    "import os, math, saxpy\n",
    "import numpy as np\n",
    "import pandas as pd\n",
    "\n",
    "from scipy import signal\n",
    "\n",
    "os.chdir('/home/atom/cvlab/thesis/')\n",
    "print(os.getcwd())"
   ]
  },
  {
   "cell_type": "markdown",
   "metadata": {},
   "source": [
    "# Load Data"
   ]
  },
  {
   "cell_type": "code",
   "execution_count": 2,
   "metadata": {},
   "outputs": [],
   "source": [
    "from dataset.dataset import JumpPoseDataset\n",
    "\n",
    "pose_paths = './dataset/marker_data'\n",
    "info_path = './dataset/info.xlsx'\n",
    "dataset = JumpPoseDataset(pose_paths, info_path, mode='vector')\n",
    "poses, labels = zip(*dataset)\n",
    "labels = np.asarray([int(l[0]) for l in labels])"
   ]
  },
  {
   "cell_type": "markdown",
   "metadata": {},
   "source": [
    "# Randomized Time Warping"
   ]
  },
  {
   "cell_type": "code",
   "execution_count": 3,
   "metadata": {},
   "outputs": [
    {
     "name": "stdout",
     "output_type": "stream",
     "text": [
      "Shape of original pose is (1137, 87)\n",
      "Shape of TE features with k=5, Z=10 is (10, 5, 87)\n"
     ]
    }
   ],
   "source": [
    "def TERMS(vec, k, Z):\n",
    "    \"\"\"\n",
    "    Sample k-length Z times\n",
    "    \"\"\"\n",
    "    TE = np.array([vec[sorted(np.random.randint(len(vec), size=k))] for _ in range(Z)])\n",
    "    return TE\n",
    "    \n",
    "# example usage\n",
    "pose = poses[0]\n",
    "print(f'Shape of original pose is {pose.shape}')\n",
    "\n",
    "TE = TERMS(pose, 5, 10)\n",
    "print(f'Shape of TE features with k=5, Z=10 is {TE.shape}')"
   ]
  },
  {
   "cell_type": "markdown",
   "metadata": {},
   "source": [
    "# Algorithm 1."
   ]
  },
  {
   "cell_type": "code",
   "execution_count": 101,
   "metadata": {},
   "outputs": [
    {
     "name": "stderr",
     "output_type": "stream",
     "text": [
      "/home/atom/anaconda3/lib/python3.7/site-packages/ipykernel_launcher.py:27: ComplexWarning: Casting complex values to real discards the imaginary part\n",
      "/home/atom/anaconda3/lib/python3.7/site-packages/ipykernel_launcher.py:40: ComplexWarning: Casting complex values to real discards the imaginary part\n"
     ]
    }
   ],
   "source": [
    "from itertools import product\n",
    "\n",
    "# set hyperparams\n",
    "k, Z = 100, 50\n",
    "\n",
    "classes = [0, 1]\n",
    "D_len = len(dataset)\n",
    "C_len = len(classes)\n",
    "\n",
    "R = [np.zeros((len(labels[np.where(labels==c)]),k,k)) for c in classes]\n",
    "Y = [np.zeros((len(labels[np.where(labels==c)]),k,k)) for c in classes]\n",
    "\n",
    "Rc = [np.zeros((k,k)) for _ in range(C_len)]\n",
    "Mc = [np.zeros((k,k)) for _ in range(C_len)]\n",
    "\n",
    "for c in classes:\n",
    "    for i, j in zip(range(len(np.where(labels==c)[0])), np.where(labels==c)[0]):\n",
    "        x = poses[j]\n",
    "\n",
    "        # Obtain TE features\n",
    "        s = TERMS(x, k, Z)\n",
    "\n",
    "        # Calculate set covariance\n",
    "        R[c][i] = np.apply_over_axes(lambda a, b: a[b]@a[b].T, axes=[0], a=s).mean(axis=0) \n",
    "\n",
    "        # Apply eigendecomposition\n",
    "        w, Y[c][i] = np.linalg.eig(R[c][i]) # after resorting via argsort, w and Y[i] don't correspond\n",
    "        Y[c][i] = Y[c][i][w.argsort()[::-1]] # order eigenvectors by eigenvalues. Large to small\n",
    "    \n",
    "    Rc[c] = np.apply_over_axes(lambda a, b: a[b]@a[b].T, axes=[0], a=s).mean(axis=0) # shape (k, k)\n",
    "    w, Mc[c] = np.linalg.eig(Rc[c]) \n",
    "    Mc[c] = Mc[c][w.argsort()[::-1]]\n",
    "\n",
    "# obtain GDS and principal subspace\n",
    "P, H = np.linalg.eig(np.apply_over_axes(lambda x, y: x[y]@x[y].T, axes=[0], a=s).mean(axis=0)) \n",
    "\n",
    "# project all subspaces onto the GDS\n",
    "for c in classes:\n",
    "    for i in range(len(np.where(labels==c)[0])):\n",
    "        Y[c][i] = H.T @ Y[c][i]    \n",
    "        \n",
    "# format Y for next stage\n",
    "Y = np.append(Y[0],Y[1], axis=0)"
   ]
  },
  {
   "cell_type": "code",
   "execution_count": 102,
   "metadata": {},
   "outputs": [],
   "source": [
    "import torch\n",
    "from itertools import permutations\n",
    "from souza_tools import *\n",
    "\n",
    "# generate similarity matrix\n",
    "K = torch.zeros((D_len, D_len))\n",
    "for q, w in product(range(D_len), range(D_len)):\n",
    "    K[q,w] = similarity_matrix(torch.tensor(Y[q]),torch.tensor(Y[w]))"
   ]
  },
  {
   "cell_type": "code",
   "execution_count": 103,
   "metadata": {},
   "outputs": [],
   "source": [
    "import scipy\n",
    "\n",
    "c_blocks = []\n",
    "for c in classes:\n",
    "    c_len = len(np.where(labels==c)[0])\n",
    "    c_blocks.append(np.ones((c_len,c_len)))\n",
    "    \n",
    "V = torch.tensor(scipy.linalg.block_diag(*c_blocks))\n",
    "I = torch.eye(len(V))\n",
    "\n",
    "S_b = K @ (V - torch.ones(V.shape) / len(V)).float() @ K\n",
    "S_w = K @ (I - V).float() @ K\n",
    "\n",
    "sig = 1\n",
    "\n",
    "# solve LDA problem\n",
    "w, a = torch.eig(torch.inverse(S_w + sig**2 * I) @ S_b, eigenvectors=True)\n",
    "\n",
    "# compute training coefficients\n",
    "F = a * K"
   ]
  },
  {
   "cell_type": "code",
   "execution_count": 104,
   "metadata": {},
   "outputs": [
    {
     "data": {
      "text/plain": [
       "tensor(0.2550)"
      ]
     },
     "execution_count": 104,
     "metadata": {},
     "output_type": "execute_result"
    }
   ],
   "source": [
    "F_test"
   ]
  },
  {
   "cell_type": "markdown",
   "metadata": {},
   "source": [
    "# Algorithm 2"
   ]
  },
  {
   "cell_type": "code",
   "execution_count": 105,
   "metadata": {},
   "outputs": [
    {
     "data": {
      "text/plain": [
       "(dtype('float64'), dtype('float64'))"
      ]
     },
     "execution_count": 105,
     "metadata": {},
     "output_type": "execute_result"
    }
   ],
   "source": [
    "Y[q].dtype, X.real.dtype"
   ]
  },
  {
   "cell_type": "code",
   "execution_count": 111,
   "metadata": {},
   "outputs": [
    {
     "data": {
      "image/png": "[encoded data removed]",
      "text/plain": [
       "<Figure size 432x288 with 1 Axes>"
      ]
     },
     "metadata": {
      "needs_background": "light"
     },
     "output_type": "display_data"
    }
   ],
   "source": [
    "i = 1\n",
    "for i in range(40):\n",
    "    x = poses[i]\n",
    "    y = labels[i]\n",
    "\n",
    "    # Obtain TE features\n",
    "    s = TERMS(x, k, Z)\n",
    "\n",
    "    # Calculate set covariance\n",
    "    R = np.apply_over_axes(lambda a, b: a[b]@a[b].T, axes=[0], a=s).mean(axis=0) \n",
    "\n",
    "    # Apply eigendecomposition\n",
    "    w, X = np.linalg.eig(R) # after resorting via argsort, w and Y[i] don't correspond\n",
    "    X = X[w.argsort()[::-1]] # order eigenvectors by eigenvalues. Large to small\n",
    "\n",
    "    # project all subspaces onto the GDS\n",
    "    X = H.T @ X  \n",
    "    \n",
    "    # generate similarity matrix\n",
    "    K_test = torch.zeros(D_len)\n",
    "    for q in product(range(D_len)):\n",
    "        K_test[q] = similarity_matrix(torch.tensor(Y[q].real),torch.tensor(X.real))\n",
    "\n",
    "    # compute test coefficents\n",
    "    F_test = a[0].T @ K_test\n",
    "    \n",
    "    if y:\n",
    "        plt.scatter(a[0].T @ K_test, i, color='r')\n",
    "    else:\n",
    "        plt.scatter(a[0].T @ K_test, i, color='b')\n",
    "\n",
    "plt.show()"
   ]
  },
  {
   "cell_type": "code",
   "execution_count": 94,
   "metadata": {
    "scrolled": true
   },
   "outputs": [
    {
     "data": {
      "text/plain": [
       "tensor([1.2311, 1.2006, 1.2797, 1.2271, 1.2505, 1.2402, 1.2464, 1.2661, 1.2729,\n",
       "        1.2850, 1.1957, 1.2460, 1.2387, 1.2382, 1.2572, 1.1856, 1.3436, 1.1483,\n",
       "        1.2498, 1.1955, 1.2786, 1.2902, 1.1440, 1.2295, 1.1737, 1.4077, 1.3375,\n",
       "        1.1770, 1.1260, 1.2047, 1.2053, 1.2168, 1.1868, 1.2115, 1.2873, 1.2404,\n",
       "        1.2000, 1.2220, 1.2653, 1.6603])"
      ]
     },
     "execution_count": 94,
     "metadata": {},
     "output_type": "execute_result"
    }
   ],
   "source": [
    "K_test"
   ]
  },
  {
   "cell_type": "code",
   "execution_count": 14,
   "metadata": {},
   "outputs": [],
   "source": [
    "%matplotlib qt\n",
    "\n",
    "import matplotlib.pyplot as plt\n",
    "from mpl_toolkits.mplot3d import Axes3D\n",
    "\n",
    "fig = plt.figure()\n",
    "ax = fig.add_subplot(111, projection='3d')\n",
    "\n",
    "a = np.random.random(size=(40,3))\n",
    "b = np.random.multivariate_normal([1,1,1], [[0.01,0,0],[0,0.5,0], [0,0,1]], size=40)\n",
    "X = np.concatenate((a,b))\n",
    "y = np.concatenate((np.zeros(len(a)), np.ones(len(b))))\n",
    "\n",
    "ax.scatter(*a.T, c='blue')\n",
    "ax.scatter(*b.T, c='red')\n",
    "\n",
    "ax.scatter(*a.mean(axis=0).T, marker='*', c='blue', s=150)\n",
    "ax.scatter(*b.mean(axis=0).T, marker='*', c='red', s=150)\n",
    "\n",
    "def comp_mean_vectors(X, y):\n",
    "    class_labels = np.unique(y)\n",
    "    n_classes = class_labels.shape[0]\n",
    "    mean_vectors = []\n",
    "    for cl in class_labels:\n",
    "        mean_vectors.append(np.mean(X[y==cl], axis=0))\n",
    "    return mean_vectors\n",
    "\n",
    "def scatter_within(X, y):\n",
    "    class_labels = np.unique(y)\n",
    "    n_classes = class_labels.shape[0]\n",
    "    n_features = X.shape[1]\n",
    "    mean_vectors = comp_mean_vectors(X, y)\n",
    "    S_W = np.zeros((n_features, n_features))\n",
    "    for cl, mv in zip(class_labels, mean_vectors):\n",
    "        class_sc_mat = np.zeros((n_features, n_features))                 \n",
    "        for row in X[y == cl]:\n",
    "            row, mv = row.reshape(n_features, 1), mv.reshape(n_features, 1)\n",
    "            class_sc_mat += (row-mv).dot((row-mv).T)\n",
    "        S_W += class_sc_mat                           \n",
    "    return S_W\n",
    "\n",
    "def scatter_between(X, y):\n",
    "    overall_mean = np.mean(X, axis=0)\n",
    "    n_features = X.shape[1]\n",
    "    mean_vectors = comp_mean_vectors(X, y)    \n",
    "    S_B = np.zeros((n_features, n_features))\n",
    "    for i, mean_vec in enumerate(mean_vectors):  \n",
    "        n = X[y==i+1,:].shape[0]\n",
    "        mean_vec = mean_vec.reshape(n_features, 1)\n",
    "        overall_mean = overall_mean.reshape(n_features, 1)\n",
    "        S_B += n * (mean_vec - overall_mean).dot((mean_vec - overall_mean).T)\n",
    "    return S_B\n",
    "\n",
    "SW, SB = scatter_within(X,y), scatter_between(X,y)\n",
    "SWa, SWb = scatter_within(X[:40],y[:40])/4, scatter_within(X[40:],y[40:]) /4\n",
    "\n",
    "origin = [0], [0]\n",
    "ax.quiver(*a.mean(axis=0).T, SWa[:,0], SWa[:,1], SWa[:,2], color='skyblue')\n",
    "ax.quiver(*b.mean(axis=0).T, SWb[:,0], SWb[:,1], SWb[:,2], color='pink')\n",
    "\n",
    "plt.show()\n",
    "\n",
    "eig_vals, eig_vecs = np.linalg.eig(np.linalg.inv(SW).dot(SB))\n",
    "eig_vals, eig_vecs\n",
    "eig_vecs = eig_vecs[eig_vals.argsort()[::-1]]\n",
    "\n",
    "W = np.hstack((eig_vecs[0].reshape(3,1)))"
   ]
  },
  {
   "cell_type": "code",
   "execution_count": 21,
   "metadata": {},
   "outputs": [
    {
     "data": {
      "image/png": "[encoded data removed]",
      "text/plain": [
       "<Figure size 432x288 with 1 Axes>"
      ]
     },
     "metadata": {
      "needs_background": "light"
     },
     "output_type": "display_data"
    }
   ],
   "source": [
    "%matplotlib inline\n",
    "\n",
    "def get_components(eig_vals, eig_vecs, n_comp=1):\n",
    "    n_features = X.shape[1]\n",
    "    eig_pairs = [(np.abs(eig_vals[i]), eig_vecs[:,i]) for i in range(len(eig_vals))]\n",
    "    eig_pairs = sorted(eig_pairs, key=lambda k: k[0], reverse=True)\n",
    "    W = np.hstack([eig_pairs[i][1].reshape(3, 1) for i in range(0, n_comp)])\n",
    "    return W\n",
    "\n",
    "a_lda = a @ get_components(eig_vals, eig_vecs)\n",
    "b_lda = b @ get_components(eig_vals, eig_vecs)\n",
    "\n",
    "plt.scatter(a_lda, range(len(a)), c='blue')\n",
    "plt.scatter(b_lda, range(len(a)), c='red')\n",
    "plt.show()"
   ]
  },
  {
   "cell_type": "code",
   "execution_count": 22,
   "metadata": {},
   "outputs": [
    {
     "data": {
      "text/plain": [
       "<matplotlib.collections.PathCollection at 0x7f8d83821128>"
      ]
     },
     "execution_count": 22,
     "metadata": {},
     "output_type": "execute_result"
    },
    {
     "data": {
      "image/png": "[encoded data removed]",
      "text/plain": [
       "<Figure size 432x288 with 1 Axes>"
      ]
     },
     "metadata": {
      "needs_background": "light"
     },
     "output_type": "display_data"
    }
   ],
   "source": [
    "from sklearn.decomposition import PCA\n",
    "\n",
    "clf = PCA(n_components=2)\n",
    "clf.fit(np.concatenate((a,b)), np.concatenate((np.zeros(len(a)), np.ones(len(b)))))\n",
    "\n",
    "plt.scatter(*clf.transform(a).T, color='blue')\n",
    "plt.scatter(*clf.transform(b).T, color='red')"
   ]
  },
  {
   "cell_type": "code",
   "execution_count": 23,
   "metadata": {},
   "outputs": [
    {
     "data": {
      "image/png": "[encoded data removed]",
      "text/plain": [
       "<Figure size 432x288 with 1 Axes>"
      ]
     },
     "metadata": {
      "needs_background": "light"
     },
     "output_type": "display_data"
    }
   ],
   "source": [
    "from sklearn.discriminant_analysis import LinearDiscriminantAnalysis as LDA\n",
    "\n",
    "clf = LDA(n_components=1, store_covariance=True)\n",
    "clf.fit(np.concatenate((a,b)), np.concatenate((np.zeros(len(a)), np.ones(len(b)))))\n",
    "\n",
    "plt.scatter(clf.transform(a), range(len(a)),color='blue')\n",
    "plt.scatter(clf.transform(b), range(len(b)),color='red')\n",
    "plt.show()"
   ]
  },
  {
   "cell_type": "code",
   "execution_count": null,
   "metadata": {},
   "outputs": [],
   "source": [
    "a.shape"
   ]
  },
  {
   "cell_type": "code",
   "execution_count": null,
   "metadata": {},
   "outputs": [],
   "source": []
  },
  {
   "cell_type": "code",
   "execution_count": null,
   "metadata": {},
   "outputs": [],
   "source": []
  }
 ],
 "metadata": {
  "kernelspec": {
   "display_name": "Python 3",
   "language": "python",
   "name": "python3"
  },
  "language_info": {
   "codemirror_mode": {
    "name": "ipython",
    "version": 3
   },
   "file_extension": ".py",
   "mimetype": "text/x-python",
   "name": "python",
   "nbconvert_exporter": "python",
   "pygments_lexer": "ipython3",
   "version": "3.7.3"
  }
 },
 "nbformat": 4,
 "nbformat_minor": 2
}
