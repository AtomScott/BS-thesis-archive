{
 "cells": [
  {
   "cell_type": "code",
   "execution_count": 1,
   "metadata": {},
   "outputs": [
    {
     "name": "stdout",
     "output_type": "stream",
     "text": [
      "/home/atom/cvlab/thesis\n"
     ]
    }
   ],
   "source": [
    "# Check cwd\n",
    "import os\n",
    "os.chdir('/home/atom/cvlab/thesis/')\n",
    "print(os.getcwd())"
   ]
  },
  {
   "cell_type": "code",
   "execution_count": 2,
   "metadata": {},
   "outputs": [],
   "source": [
    "# Dependencies\n",
    "import glob\n",
    "import my_pkg.dataset\n",
    "\n",
    "from functools import partial\n",
    "from torch.utils.data import Dataset, DataLoader"
   ]
  },
  {
   "cell_type": "code",
   "execution_count": 3,
   "metadata": {},
   "outputs": [],
   "source": [
    "# reloading stuff\n",
    "import importlib\n",
    "importlib.reload(my_pkg.dataset);"
   ]
  },
  {
   "cell_type": "code",
   "execution_count": 4,
   "metadata": {},
   "outputs": [],
   "source": [
    "pose_paths = glob.glob('./data/marker/*.csv')\n",
    "grf_paths = glob.glob('./data/GRF/*.csv')\n",
    "info_path = './data/info.xlsx'\n",
    "dataset = my_pkg.dataset.SLJDataset(pose_paths, grf_paths, info_path)\n",
    "\n",
    "# Takes time because it goes through all the lengths\n",
    "dataset.transforms = [partial(my_pkg.dataset.edgepad, mx_len=dataset.get_maxlen())]                                    "
   ]
  },
  {
   "cell_type": "code",
   "execution_count": 6,
   "metadata": {},
   "outputs": [
    {
     "data": {
      "text/plain": [
       "((1945, 29, 3), (19874, 5), (6,))"
      ]
     },
     "execution_count": 6,
     "metadata": {},
     "output_type": "execute_result"
    }
   ],
   "source": [
    "pose, grf, label = dataset[0].values()\n",
    "pose.shape, grf.shape, label.shape"
   ]
  },
  {
   "cell_type": "code",
   "execution_count": 9,
   "metadata": {},
   "outputs": [
    {
     "name": "stdout",
     "output_type": "stream",
     "text": [
      "(1945, 29, 3) (19874, 5) (6,)\n",
      "(1945, 29, 3) (19874, 5) (6,)\n",
      "(1945, 29, 3) (19874, 5) (6,)\n",
      "(1945, 29, 3) (19874, 5) (6,)\n",
      "(1945, 29, 3) (19874, 5) (6,)\n",
      "524\n"
     ]
    }
   ],
   "source": [
    "dataloader = DataLoader(dataset, batch_size=2,\n",
    "                        shuffle=False, num_workers=1)\n",
    "\n",
    "for batch_idx, batch in enumerate(dataloader):\n",
    "    if batch_idx < 5:\n",
    "        poses, grfs, labels = batch\n",
    "        print(pose.shape, grf.shape, label.shape)\n",
    "    else:\n",
    "        break\n",
    "\n",
    "N = len(dataset)\n",
    "print(N)"
   ]
  },
  {
   "cell_type": "code",
   "execution_count": null,
   "metadata": {},
   "outputs": [],
   "source": []
  }
 ],
 "metadata": {
  "file_extension": ".py",
  "kernelspec": {
   "display_name": "Python 3",
   "language": "python",
   "name": "python3"
  },
  "language_info": {
   "codemirror_mode": {
    "name": "ipython",
    "version": 3
   },
   "file_extension": ".py",
   "mimetype": "text/x-python",
   "name": "python",
   "nbconvert_exporter": "python",
   "pygments_lexer": "ipython3",
   "version": "3.7.3"
  },
  "mimetype": "text/x-python",
  "name": "python",
  "npconvert_exporter": "python",
  "pygments_lexer": "ipython3",
  "version": 3
 },
 "nbformat": 4,
 "nbformat_minor": 2
}
