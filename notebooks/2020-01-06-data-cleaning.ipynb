{
 "cells": [
  {
   "cell_type": "code",
   "execution_count": 1,
   "metadata": {},
   "outputs": [
    {
     "name": "stdout",
     "output_type": "stream",
     "text": [
      "/home/member/github/BS-thesis\n"
     ]
    }
   ],
   "source": [
    "import os\n",
    "# Check cwd\n",
    "# os.chdir('/home/atom/cvlab/BS-thesis/') \n",
    "os.chdir('/home/member/github/BS-thesis') \n",
    "# BS-thesis should be root\n",
    "print(os.getcwd())"
   ]
  },
  {
   "cell_type": "code",
   "execution_count": 2,
   "metadata": {},
   "outputs": [],
   "source": [
    "# Dependencies\n",
    "import glob\n",
    "import my_pkg.dataset\n",
    "\n",
    "from functools import partial\n",
    "from torch.utils.data import Dataset, DataLoader"
   ]
  },
  {
   "cell_type": "code",
   "execution_count": 3,
   "metadata": {},
   "outputs": [],
   "source": [
    "# reloading stuff\n",
    "import importlib\n",
    "importlib.reload(my_pkg.dataset);"
   ]
  },
  {
   "cell_type": "markdown",
   "metadata": {},
   "source": [
    "## I/O examples"
   ]
  },
  {
   "cell_type": "markdown",
   "metadata": {},
   "source": [
    "### Reading datset from files"
   ]
  },
  {
   "cell_type": "code",
   "execution_count": 4,
   "metadata": {},
   "outputs": [],
   "source": [
    "pose_paths = glob.glob('./data/marker/*.csv')\n",
    "grf_paths = glob.glob('./data/GRF/*.csv')\n",
    "info_path = './data/info.xlsx'\n",
    "dataset = my_pkg.dataset.SLJDataset(pose_paths, grf_paths, info_path)"
   ]
  },
  {
   "cell_type": "markdown",
   "metadata": {},
   "source": [
    "### Apply transforms to data"
   ]
  },
  {
   "cell_type": "code",
   "execution_count": 5,
   "metadata": {},
   "outputs": [
    {
     "data": {
      "text/plain": [
       "((1945, 29, 3), (19874, 5), (6,))"
      ]
     },
     "execution_count": 5,
     "metadata": {},
     "output_type": "execute_result"
    }
   ],
   "source": [
    "# Transform to perform edge pad\n",
    "# Takes time because it goes through all the lengths to find max len\n",
    "dataset.transforms = [partial(my_pkg.dataset.edgepad, mx_len=dataset.get_maxlen())] \n",
    "\n",
    "# transforms are applied on __getitem__\n",
    "pose, grf, label = dataset[0].values()\n",
    "pose.shape, grf.shape, label.shape"
   ]
  },
  {
   "cell_type": "markdown",
   "metadata": {},
   "source": [
    "### Data Loader example"
   ]
  },
  {
   "cell_type": "code",
   "execution_count": 0,
   "metadata": {},
   "outputs": [],
   "source": [
    "dataloader = DataLoader(dataset, batch_size=2,\n",
    "                        shuffle=False, num_workers=1)\n",
    "\n",
    "for batch_idx, batch in enumerate(dataloader):\n",
    "    if batch_idx < 5:\n",
    "        poses, grfs, labels = batch\n",
    "        print(pose.shape, grf.shape, label.shape)\n",
    "    else:\n",
    "        break"
   ]
  },
  {
   "cell_type": "code",
   "execution_count": 16,
   "metadata": {},
   "outputs": [
    {
     "name": "stdout",
     "output_type": "stream",
     "text": [
      "HI\n"
     ]
    }
   ],
   "source": [
    "if dataset.__dict__.get('pose_paths'):\n",
    "    print('HI')"
   ]
  },
  {
   "cell_type": "code",
   "execution_count": null,
   "metadata": {},
   "outputs": [],
   "source": []
  }
 ],
 "metadata": {
  "file_extension": ".py",
  "kernelspec": {
   "display_name": "Python 3",
   "language": "python",
   "name": "python3"
  },
  "language_info": {
   "codemirror_mode": {
    "name": "ipython",
    "version": 3
   },
   "file_extension": ".py",
   "mimetype": "text/x-python",
   "name": "python",
   "nbconvert_exporter": "python",
   "pygments_lexer": "ipython3",
   "version": "3.7.3"
  },
  "mimetype": "text/x-python",
  "name": "python",
  "npconvert_exporter": "python",
  "pygments_lexer": "ipython3",
  "version": 3
 },
 "nbformat": 4,
 "nbformat_minor": 2
}
